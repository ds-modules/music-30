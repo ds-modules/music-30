{
 "cells": [
  {
   "cell_type": "code",
   "execution_count": 1,
   "metadata": {
    "scrolled": true
   },
   "outputs": [],
   "source": [
    "# !pip install midiutil"
   ]
  },
  {
   "cell_type": "code",
   "execution_count": 1,
   "metadata": {},
   "outputs": [],
   "source": [
    "from midiutil import MIDIFile"
   ]
  },
  {
   "cell_type": "code",
   "execution_count": 2,
   "metadata": {},
   "outputs": [],
   "source": [
    "track = 0\n",
    "channel = 0\n",
    "time = 0 \n",
    "duration = 1\n",
    "tempo = 60\n",
    "volume = 100"
   ]
  },
  {
   "cell_type": "code",
   "execution_count": 3,
   "metadata": {},
   "outputs": [],
   "source": [
    "def addNote(pitch, track=0, channel=0, time=0, duration=1, volume=80):\n",
    "    MIDI.addNote(track, channel, pitch, time, duration, volume)"
   ]
  },
  {
   "cell_type": "code",
   "execution_count": 4,
   "metadata": {},
   "outputs": [],
   "source": [
    "MIDI = MIDIFile(1)\n",
    "MIDI.addTempo(track, time, tempo)\n",
    "#MIDI2 = MIDIFile(2) # Bass note midi file?\n",
    "#MIDI2.addTempo(1, time, tempo)"
   ]
  },
  {
   "cell_type": "markdown",
   "metadata": {},
   "source": [
    "Data dictionary to convert the pitch number to MIDI note number - based on the bach choral dataset."
   ]
  },
  {
   "cell_type": "code",
   "execution_count": 3,
   "metadata": {},
   "outputs": [],
   "source": [
    "# key = pitch_#\n",
    "# value = MIDI note number\n",
    "midi_note_converter = {'pitch_1':60,\n",
    "             'pitch_2':61,\n",
    "             'pitch_3':62,\n",
    "             'pitch_4':63,\n",
    "             'pitch_5':64,\n",
    "             'pitch_6':65,\n",
    "             'pitch_7':66,\n",
    "             'pitch_8':67,\n",
    "             'pitch_9':68,\n",
    "             'pitch_10':69,\n",
    "             'pitch_11':70,\n",
    "             'pitch_12':71}"
   ]
  },
  {
   "cell_type": "code",
   "execution_count": 4,
   "metadata": {},
   "outputs": [],
   "source": [
    "# Complete pitch_values list for each chord_label in the dataset.\n",
    "\n",
    "pitch_values = {'F_M': ['pitch_1', 'pitch_6', 'pitch_10'],\n",
    " 'C_M': ['pitch_1', 'pitch_5', 'pitch_8'],\n",
    " 'D_m': ['pitch_3', 'pitch_6', 'pitch_10'],\n",
    " 'BbM': ['pitch_3', 'pitch_6', 'pitch_11'],\n",
    " 'C_M7': ['pitch_5', 'pitch_8', 'pitch_10', 'pitch_11'],\n",
    " 'D_m7': ['pitch_1', 'pitch_3', 'pitch_6', 'pitch_10'],\n",
    " 'G_M': ['pitch_3', 'pitch_8', 'pitch_12'],\n",
    " 'A_m': ['pitch_1', 'pitch_5', 'pitch_10'],\n",
    " 'C_M4': ['pitch_1', 'pitch_6', 'pitch_8'],\n",
    " 'G_m': ['pitch_3', 'pitch_8', 'pitch_11'],\n",
    " 'G_M7': ['pitch_3', 'pitch_6', 'pitch_8', 'pitch_12'],\n",
    " 'D_M': ['pitch_3', 'pitch_7', 'pitch_10'],\n",
    " 'F#d': ['pitch_1', 'pitch_7', 'pitch_10'],\n",
    " 'AbM': ['pitch_1', 'pitch_4', 'pitch_9'],\n",
    " 'C#d7': ['pitch_2', 'pitch_5', 'pitch_8', 'pitch_11'],\n",
    " 'D_M7': ['pitch_1', 'pitch_3', 'pitch_7', 'pitch_10'],\n",
    " 'A_M': ['pitch_2', 'pitch_5', 'pitch_10'],\n",
    " 'EbM': ['pitch_4', 'pitch_8', 'pitch_11'],\n",
    " 'F_M7': ['pitch_1', 'pitch_4', 'pitch_8', 'pitch_10'],\n",
    " 'C_m': ['pitch_1', 'pitch_4', 'pitch_8'],\n",
    " 'A_M4': ['pitch_3', 'pitch_5', 'pitch_10'],\n",
    " 'F#m': ['pitch_2', 'pitch_7', 'pitch_10'],\n",
    " 'B_M': ['pitch_4', 'pitch_7', 'pitch_12'],\n",
    " 'E_M': ['pitch_5', 'pitch_9'],\n",
    " 'D#d': ['pitch_4', 'pitch_7', 'pitch_9', 'pitch_10'],\n",
    " 'C#M': ['pitch_2', 'pitch_7', 'pitch_9'],\n",
    " 'F#m7': ['pitch_3', 'pitch_5', 'pitch_9', 'pitch_12'],\n",
    " 'A#d': ['pitch_2', 'pitch_3', 'pitch_5', 'pitch_11'],\n",
    " 'B_m': ['pitch_3', 'pitch_7', 'pitch_12'],\n",
    " 'E_M7': ['pitch_3', 'pitch_5', 'pitch_9'],\n",
    " 'E_m': ['pitch_5', 'pitch_8', 'pitch_12'],\n",
    " 'F#M': ['pitch_2', 'pitch_7', 'pitch_11'],\n",
    " 'F#M7': ['pitch_2', 'pitch_5', 'pitch_7', 'pitch_11'],\n",
    " 'B_M7': ['pitch_4', 'pitch_7', 'pitch_10', 'pitch_12'],\n",
    " 'A_m6': ['pitch_1', 'pitch_5', 'pitch_7', 'pitch_10'],\n",
    " 'C#d': ['pitch_2', 'pitch_5', 'pitch_8'],\n",
    " 'A_m7': ['pitch_1', 'pitch_8', 'pitch_10'],\n",
    " 'A_d': ['pitch_1', 'pitch_4', 'pitch_10'],\n",
    " 'C_m7': ['pitch_1', 'pitch_4', 'pitch_8', 'pitch_11'],\n",
    " 'G_m6': ['pitch_4', 'pitch_8', 'pitch_11'],\n",
    " 'D_M4': ['pitch_3', 'pitch_8', 'pitch_10'],\n",
    " 'G_m7': ['pitch_3', 'pitch_6', 'pitch_8', 'pitch_11'],\n",
    " 'E_m7': ['pitch_3', 'pitch_5', 'pitch_8', 'pitch_12'],\n",
    " 'E_m6': ['pitch_2', 'pitch_5', 'pitch_8', 'pitch_12'],\n",
    " 'A_M7': ['pitch_2', 'pitch_5', 'pitch_8', 'pitch_10'],\n",
    " 'C#m': ['pitch_2', 'pitch_5', 'pitch_9'],\n",
    " 'C#M7': ['pitch_2', 'pitch_6', 'pitch_12'],\n",
    " 'A#d7': ['pitch_2', 'pitch_5', 'pitch_8', 'pitch_12'],\n",
    " 'EbM7': ['pitch_3', 'pitch_4', 'pitch_8'],\n",
    " 'B_m7': ['pitch_3', 'pitch_7', 'pitch_10', 'pitch_12'],\n",
    " 'E_M4': ['pitch_5', 'pitch_10', 'pitch_12'],\n",
    " 'C#m7': ['pitch_2', 'pitch_5', 'pitch_8', 'pitch_12'],\n",
    " 'F_M4': ['pitch_1', 'pitch_6', 'pitch_11'],\n",
    " 'D_m6': ['pitch_3', 'pitch_6', 'pitch_10', 'pitch_12'],\n",
    " 'G#d': ['pitch_3', 'pitch_9', 'pitch_12'],\n",
    " 'G#d7': ['pitch_3', 'pitch_6', 'pitch_9', 'pitch_12'],\n",
    " 'A_m4': ['pitch_3', 'pitch_5', 'pitch_10'],\n",
    " 'D_M6': ['pitch_3', 'pitch_7', 'pitch_10', 'pitch_12'],\n",
    " 'F_d': ['pitch_6', 'pitch_9', 'pitch_12'],\n",
    " 'B_m6': ['pitch_3', 'pitch_7', 'pitch_9', 'pitch_12'],\n",
    " 'B_M4': ['pitch_5', 'pitch_7', 'pitch_12'],\n",
    " 'C_m6': ['pitch_1', 'pitch_4', 'pitch_10'],\n",
    " 'F_m': ['pitch_1', 'pitch_6', 'pitch_9'],\n",
    " 'G_M4': ['pitch_1', 'pitch_3', 'pitch_8'],\n",
    " 'F_m7': ['pitch_4', 'pitch_6', 'pitch_9'],\n",
    " 'C_d6': ['pitch_1', 'pitch_4', 'pitch_7', 'pitch_10'],\n",
    " 'F_m6': ['pitch_1', 'pitch_3', 'pitch_6', 'pitch_9'],\n",
    " 'G_M6': ['pitch_3', 'pitch_5', 'pitch_8'],\n",
    " 'A_M6': ['pitch_2', 'pitch_5', 'pitch_7', 'pitch_10'],\n",
    " 'F_M6': ['pitch_3', 'pitch_6', 'pitch_10'],\n",
    " 'F#M4': ['pitch_2', 'pitch_7', 'pitch_12'],\n",
    " 'B_d7': ['pitch_3', 'pitch_6', 'pitch_8', 'pitch_12'],\n",
    " 'D_d7': ['pitch_3', 'pitch_6', 'pitch_9', 'pitch_12'],\n",
    " 'E_d': ['pitch_5', 'pitch_8', 'pitch_11'],\n",
    " 'Bbm': ['pitch_2', 'pitch_6', 'pitch_11'],\n",
    " 'Bbm6': ['pitch_2', 'pitch_6', 'pitch_8', 'pitch_11'],\n",
    " 'DbM': ['pitch_2', 'pitch_6', 'pitch_9'],\n",
    " 'C_d7': ['pitch_1', 'pitch_4', 'pitch_7', 'pitch_11'],\n",
    " 'F#d7': ['pitch_1', 'pitch_4', 'pitch_7', 'pitch_10'],\n",
    " 'Abd': ['pitch_3', 'pitch_9', 'pitch_12'],\n",
    " 'Ebd': ['pitch_4', 'pitch_7', 'pitch_10'],\n",
    " 'Dbd7': ['pitch_2', 'pitch_5', 'pitch_8', 'pitch_11'],\n",
    " 'Dbd': ['pitch_2', 'pitch_5', 'pitch_8'],\n",
    " 'Bbd': ['pitch_2', 'pitch_5', 'pitch_11'],\n",
    " 'Dbm7': ['pitch_2', 'pitch_5', 'pitch_9', 'pitch_12'],\n",
    " 'Abm': ['pitch_4', 'pitch_9', 'pitch_12'],\n",
    " 'DbM7': ['pitch_2', 'pitch_6', 'pitch_9', 'pitch_12'],\n",
    " 'Dbm': ['pitch_2', 'pitch_5', 'pitch_9'],\n",
    " 'F#m6': ['pitch_2', 'pitch_4', 'pitch_7', 'pitch_10'],\n",
    " 'G#m': ['pitch_4', 'pitch_9', 'pitch_12'],\n",
    " 'B_d': ['pitch_3', 'pitch_6', 'pitch_12'],\n",
    " 'C_M6': ['pitch_1', 'pitch_5', 'pitch_8', 'pitch_10'],\n",
    " 'D#m': ['pitch_4', 'pitch_7', 'pitch_9', 'pitch_11'],\n",
    " 'D#M': ['pitch_4', 'pitch_7', 'pitch_9', 'pitch_11'],\n",
    " 'BbM7': ['pitch_3', 'pitch_6', 'pitch_9', 'pitch_11'],\n",
    " 'F_d7': ['pitch_3', 'pitch_6', 'pitch_9', 'pitch_12'],\n",
    " 'C#d6': ['pitch_2', 'pitch_5', 'pitch_8', 'pitch_11'],\n",
    " 'G_d': ['pitch_2', 'pitch_8', 'pitch_11'],\n",
    " 'G#M': ['pitch_1', 'pitch_4', 'pitch_9'],\n",
    " 'C#M4': ['pitch_2', 'pitch_7', 'pitch_9', 'pitch_12'],\n",
    " 'D#d6': ['pitch_1', 'pitch_4', 'pitch_7', 'pitch_10'],\n",
    " 'D#d7': ['pitch_1', 'pitch_4', 'pitch_7', 'pitch_10']}"
   ]
  },
  {
   "cell_type": "code",
   "execution_count": 5,
   "metadata": {},
   "outputs": [],
   "source": [
    "# Takes in a list of the pitch values from 1-12 and returns the converted MIDI note numbers\n",
    "def get_midi_notes(pitch_values):\n",
    "    a = []\n",
    "    for i in pitch_values:\n",
    "        a.append(midi_note_converter[i])\n",
    "    return a"
   ]
  },
  {
   "cell_type": "code",
   "execution_count": 6,
   "metadata": {},
   "outputs": [],
   "source": [
    "# old pitch values\n",
    "# pitch_values = {\"F_m\":[1, 6, 11],\n",
    "# \"F_m7\":[1, 4, 8, 10],\n",
    "# \"Bbm6\":[2, 6, 8, 11],\n",
    "# \"AbM\":[1, 4, 9],\n",
    "# \"DbM\":[2, 6, 9],\n",
    "# 'C#m':[2, 4, 5, 9],\n",
    "# \"F#M7\":[2, 5, 7, 11],\n",
    "# \"B_m\":[3, 7, 8, 12],\n",
    "# \"F#M\":[2, 7, 11],\n",
    "# \"E_M7\":[3, 5, 7, 10],\n",
    "# \"A_M\":[2, 5, 10],\n",
    "# \"D_M\":[3, 7, 10],\n",
    "# \"G_M\":[3, 8, 12],\n",
    "# \"C_M\":[1, 5, 8]}"
   ]
  },
  {
   "cell_type": "code",
   "execution_count": 7,
   "metadata": {},
   "outputs": [],
   "source": [
    "# Convert the pitch values to their midi note numbers\n",
    "for i in pitch_values:\n",
    "    pitch_values[i] = get_midi_notes(pitch_values[i])"
   ]
  },
  {
   "cell_type": "code",
   "execution_count": 8,
   "metadata": {},
   "outputs": [
    {
     "data": {
      "text/plain": [
       "{'F_M': [60, 65, 69],\n",
       " 'C_M': [60, 64, 67],\n",
       " 'D_m': [62, 65, 69],\n",
       " 'BbM': [62, 65, 70],\n",
       " 'C_M7': [64, 67, 69, 70],\n",
       " 'D_m7': [60, 62, 65, 69],\n",
       " 'G_M': [62, 67, 71],\n",
       " 'A_m': [60, 64, 69],\n",
       " 'C_M4': [60, 65, 67],\n",
       " 'G_m': [62, 67, 70],\n",
       " 'G_M7': [62, 65, 67, 71],\n",
       " 'D_M': [62, 66, 69],\n",
       " 'F#d': [60, 66, 69],\n",
       " 'AbM': [60, 63, 68],\n",
       " 'C#d7': [61, 64, 67, 70],\n",
       " 'D_M7': [60, 62, 66, 69],\n",
       " 'A_M': [61, 64, 69],\n",
       " 'EbM': [63, 67, 70],\n",
       " 'F_M7': [60, 63, 67, 69],\n",
       " 'C_m': [60, 63, 67],\n",
       " 'A_M4': [62, 64, 69],\n",
       " 'F#m': [61, 66, 69],\n",
       " 'B_M': [63, 66, 71],\n",
       " 'E_M': [64, 68],\n",
       " 'D#d': [63, 66, 68, 69],\n",
       " 'C#M': [61, 66, 68],\n",
       " 'F#m7': [62, 64, 68, 71],\n",
       " 'A#d': [61, 62, 64, 70],\n",
       " 'B_m': [62, 66, 71],\n",
       " 'E_M7': [62, 64, 68],\n",
       " 'E_m': [64, 67, 71],\n",
       " 'F#M': [61, 66, 70],\n",
       " 'F#M7': [61, 64, 66, 70],\n",
       " 'B_M7': [63, 66, 69, 71],\n",
       " 'A_m6': [60, 64, 66, 69],\n",
       " 'C#d': [61, 64, 67],\n",
       " 'A_m7': [60, 67, 69],\n",
       " 'A_d': [60, 63, 69],\n",
       " 'C_m7': [60, 63, 67, 70],\n",
       " 'G_m6': [63, 67, 70],\n",
       " 'D_M4': [62, 67, 69],\n",
       " 'G_m7': [62, 65, 67, 70],\n",
       " 'E_m7': [62, 64, 67, 71],\n",
       " 'E_m6': [61, 64, 67, 71],\n",
       " 'A_M7': [61, 64, 67, 69],\n",
       " 'C#m': [61, 64, 68],\n",
       " 'C#M7': [61, 65, 71],\n",
       " 'A#d7': [61, 64, 67, 71],\n",
       " 'EbM7': [62, 63, 67],\n",
       " 'B_m7': [62, 66, 69, 71],\n",
       " 'E_M4': [64, 69, 71],\n",
       " 'C#m7': [61, 64, 67, 71],\n",
       " 'F_M4': [60, 65, 70],\n",
       " 'D_m6': [62, 65, 69, 71],\n",
       " 'G#d': [62, 68, 71],\n",
       " 'G#d7': [62, 65, 68, 71],\n",
       " 'A_m4': [62, 64, 69],\n",
       " 'D_M6': [62, 66, 69, 71],\n",
       " 'F_d': [65, 68, 71],\n",
       " 'B_m6': [62, 66, 68, 71],\n",
       " 'B_M4': [64, 66, 71],\n",
       " 'C_m6': [60, 63, 69],\n",
       " 'F_m': [60, 65, 68],\n",
       " 'G_M4': [60, 62, 67],\n",
       " 'F_m7': [63, 65, 68],\n",
       " 'C_d6': [60, 63, 66, 69],\n",
       " 'F_m6': [60, 62, 65, 68],\n",
       " 'G_M6': [62, 64, 67],\n",
       " 'A_M6': [61, 64, 66, 69],\n",
       " 'F_M6': [62, 65, 69],\n",
       " 'F#M4': [61, 66, 71],\n",
       " 'B_d7': [62, 65, 67, 71],\n",
       " 'D_d7': [62, 65, 68, 71],\n",
       " 'E_d': [64, 67, 70],\n",
       " 'Bbm': [61, 65, 70],\n",
       " 'Bbm6': [61, 65, 67, 70],\n",
       " 'DbM': [61, 65, 68],\n",
       " 'C_d7': [60, 63, 66, 70],\n",
       " 'F#d7': [60, 63, 66, 69],\n",
       " 'Abd': [62, 68, 71],\n",
       " 'Ebd': [63, 66, 69],\n",
       " 'Dbd7': [61, 64, 67, 70],\n",
       " 'Dbd': [61, 64, 67],\n",
       " 'Bbd': [61, 64, 70],\n",
       " 'Dbm7': [61, 64, 68, 71],\n",
       " 'Abm': [63, 68, 71],\n",
       " 'DbM7': [61, 65, 68, 71],\n",
       " 'Dbm': [61, 64, 68],\n",
       " 'F#m6': [61, 63, 66, 69],\n",
       " 'G#m': [63, 68, 71],\n",
       " 'B_d': [62, 65, 71],\n",
       " 'C_M6': [60, 64, 67, 69],\n",
       " 'D#m': [63, 66, 68, 70],\n",
       " 'D#M': [63, 66, 68, 70],\n",
       " 'BbM7': [62, 65, 68, 70],\n",
       " 'F_d7': [62, 65, 68, 71],\n",
       " 'C#d6': [61, 64, 67, 70],\n",
       " 'G_d': [61, 67, 70],\n",
       " 'G#M': [60, 63, 68],\n",
       " 'C#M4': [61, 66, 68, 71],\n",
       " 'D#d6': [60, 63, 66, 69],\n",
       " 'D#d7': [60, 63, 66, 69]}"
      ]
     },
     "execution_count": 8,
     "metadata": {},
     "output_type": "execute_result"
    }
   ],
   "source": [
    "midi_numbers = pitch_values\n",
    "midi_numbers"
   ]
  },
  {
   "cell_type": "code",
   "execution_count": 9,
   "metadata": {},
   "outputs": [],
   "source": [
    "# Chords generated from Mikayla's code\n",
    "generated_chord_sequence = ['C_M',\n",
    " 'F_m',\n",
    " 'F_m7',\n",
    " 'Bbm6',\n",
    " 'Bbm6',\n",
    " 'Bbm6',\n",
    " 'Bbm6',\n",
    " 'AbM',\n",
    " 'DbM',\n",
    " 'Bbm6',\n",
    " 'Bbm6',\n",
    " 'AbM',\n",
    " 'C#m',\n",
    " 'C#m',\n",
    " 'C#m',\n",
    " 'C#m',\n",
    " 'F#M7',\n",
    " 'F#M7',\n",
    " 'F#M7',\n",
    " 'B_m',\n",
    " 'F#M',\n",
    " 'F#M',\n",
    " 'F#M',\n",
    " 'F#M',\n",
    " 'B_m',\n",
    " 'E_M7',\n",
    " 'A_M',\n",
    " 'D_M',\n",
    " 'G_M',\n",
    " 'C_M']"
   ]
  },
  {
   "cell_type": "code",
   "execution_count": 13,
   "metadata": {
    "scrolled": true
   },
   "outputs": [
    {
     "data": {
      "text/plain": [
       "[[60, 65, 69],\n",
       " [60, 64, 67],\n",
       " [60, 64, 67],\n",
       " [60, 65, 69],\n",
       " [60, 65, 67],\n",
       " [60, 65, 67],\n",
       " [60, 65, 67],\n",
       " [60, 65, 67],\n",
       " [60, 65, 67],\n",
       " [60, 65, 67],\n",
       " [60, 64, 67],\n",
       " [60, 65, 69],\n",
       " [60, 65, 69],\n",
       " [60, 64, 67],\n",
       " [60, 64, 67],\n",
       " [60, 64, 67],\n",
       " [60, 65, 69],\n",
       " [60, 65, 69],\n",
       " [60, 64, 67],\n",
       " [60, 64, 67]]"
      ]
     },
     "execution_count": 13,
     "metadata": {},
     "output_type": "execute_result"
    }
   ],
   "source": [
    "# Sanity check to see if the generated chord sequence (and pitch values) were properly converted\n",
    "def midi_numbers_list(chord_sequence):\n",
    "    a = []\n",
    "    for i in chord_sequence:\n",
    "        a.append(midi_numbers[i])\n",
    "    return a\n",
    "midi_numbers_final = midi_numbers_list(chain)\n",
    "midi_numbers_final"
   ]
  },
  {
   "cell_type": "code",
   "execution_count": 14,
   "metadata": {},
   "outputs": [],
   "source": [
    "#t = 0\n",
    "#for i in midi_numbers_final:\n",
    "#    for ind in range(len(i)):\n",
    "#        MIDI.addNote(track, channel, i[ind], t, duration, volume)\n",
    "#    for j in range(len(bass)):   \n",
    "#        MIDI2.addNote(track, channel, bass[j], t, meter[j], volume)\n",
    "#    t += 1"
   ]
  },
  {
   "cell_type": "code",
   "execution_count": 28,
   "metadata": {},
   "outputs": [
    {
     "name": "stdout",
     "output_type": "stream",
     "text": [
      "1.0\n",
      "1.6666666666666667\n",
      "0.6666666666666666\n",
      "1.0\n",
      "0.6666666666666666\n",
      "1.3333333333333333\n",
      "0.6666666666666666\n",
      "1.0\n",
      "0.6666666666666666\n",
      "1.3333333333333333\n",
      "0.6666666666666666\n",
      "1.0\n",
      "0.6666666666666666\n",
      "1.6666666666666667\n",
      "0.6666666666666666\n",
      "0.3333333333333333\n",
      "1.0\n",
      "1.3333333333333333\n",
      "1.6666666666666667\n",
      "0.3333333333333333\n"
     ]
    }
   ],
   "source": [
    "MIDI = MIDIFile(1)\n",
    "MIDI.addTempo(track, time, tempo)\n",
    "\n",
    "t = 0\n",
    "for i in range(len(midi_numbers_final)):\n",
    "    chord_sequence = midi_numbers_final[i]\n",
    "    duration = int(meter[i])\n",
    "    \n",
    "    for ind in range(len(chord_sequence)):\n",
    "        #print(chord_sequence)\n",
    "        #print(ind)\n",
    "        MIDI.addNote(track, channel, chord_sequence[ind], t, duration, volume)\n",
    "        \n",
    "    bass_note = bass[i]\n",
    "    MIDI.addNote(track, channel, lower_octave_bass_converter[bass_note], t, duration, volume)\n",
    "    #print(duration / 3)\n",
    "    t += 1\n",
    "\n",
    "with open(\"MIDI.mid\", 'wb') as output_file:\n",
    "    MIDI.writeFile(output_file)"
   ]
  },
  {
   "cell_type": "code",
   "execution_count": 58,
   "metadata": {},
   "outputs": [
    {
     "ename": "OverflowError",
     "evalue": "int too large to convert to float",
     "output_type": "error",
     "traceback": [
      "\u001b[0;31m---------------------------------------------------------------------------\u001b[0m",
      "\u001b[0;31mOverflowError\u001b[0m                             Traceback (most recent call last)",
      "\u001b[0;32m<ipython-input-58-24134ac2cf98>\u001b[0m in \u001b[0;36m<module>\u001b[0;34m\u001b[0m\n\u001b[1;32m      7\u001b[0m \u001b[0mmf\u001b[0m\u001b[0;34m.\u001b[0m\u001b[0mread\u001b[0m\u001b[0;34m(\u001b[0m\u001b[0;34m)\u001b[0m\u001b[0;34m\u001b[0m\u001b[0;34m\u001b[0m\u001b[0m\n\u001b[1;32m      8\u001b[0m \u001b[0mmf\u001b[0m\u001b[0;34m.\u001b[0m\u001b[0mclose\u001b[0m\u001b[0;34m(\u001b[0m\u001b[0;34m)\u001b[0m\u001b[0;34m\u001b[0m\u001b[0;34m\u001b[0m\u001b[0m\n\u001b[0;32m----> 9\u001b[0;31m \u001b[0ms\u001b[0m \u001b[0;34m=\u001b[0m \u001b[0mmidi\u001b[0m\u001b[0;34m.\u001b[0m\u001b[0mtranslate\u001b[0m\u001b[0;34m.\u001b[0m\u001b[0mmidiFileToStream\u001b[0m\u001b[0;34m(\u001b[0m\u001b[0mmf\u001b[0m\u001b[0;34m)\u001b[0m\u001b[0;34m\u001b[0m\u001b[0;34m\u001b[0m\u001b[0m\n\u001b[0m\u001b[1;32m     10\u001b[0m \u001b[0ms\u001b[0m\u001b[0;34m.\u001b[0m\u001b[0mshow\u001b[0m\u001b[0;34m(\u001b[0m\u001b[0;34m'midi'\u001b[0m\u001b[0;34m)\u001b[0m\u001b[0;34m\u001b[0m\u001b[0;34m\u001b[0m\u001b[0m\n",
      "\u001b[0;32m~/anaconda3/lib/python3.7/site-packages/music21/midi/translate.py\u001b[0m in \u001b[0;36mmidiFileToStream\u001b[0;34m(mf, inputM21, quantizePost, **keywords)\u001b[0m\n\u001b[1;32m   2572\u001b[0m                         \u001b[0mquantizePost\u001b[0m\u001b[0;34m=\u001b[0m\u001b[0mquantizePost\u001b[0m\u001b[0;34m,\u001b[0m\u001b[0;34m\u001b[0m\u001b[0;34m\u001b[0m\u001b[0m\n\u001b[1;32m   2573\u001b[0m                         \u001b[0minputM21\u001b[0m\u001b[0;34m=\u001b[0m\u001b[0ms\u001b[0m\u001b[0;34m,\u001b[0m\u001b[0;34m\u001b[0m\u001b[0;34m\u001b[0m\u001b[0m\n\u001b[0;32m-> 2574\u001b[0;31m                         **keywords)\n\u001b[0m\u001b[1;32m   2575\u001b[0m     \u001b[0;31m# s._setMidiTracks(mf.tracks, mf.ticksPerQuarterNote)\u001b[0m\u001b[0;34m\u001b[0m\u001b[0;34m\u001b[0m\u001b[0;34m\u001b[0m\u001b[0m\n\u001b[1;32m   2576\u001b[0m \u001b[0;34m\u001b[0m\u001b[0m\n",
      "\u001b[0;32m~/anaconda3/lib/python3.7/site-packages/music21/midi/translate.py\u001b[0m in \u001b[0;36mmidiTracksToStreams\u001b[0;34m(midiTracks, ticksPerQuarter, quantizePost, inputM21, **keywords)\u001b[0m\n\u001b[1;32m   2311\u001b[0m                           \u001b[0mquantizePost\u001b[0m\u001b[0;34m,\u001b[0m\u001b[0;34m\u001b[0m\u001b[0;34m\u001b[0m\u001b[0m\n\u001b[1;32m   2312\u001b[0m                           \u001b[0minputM21\u001b[0m\u001b[0;34m=\u001b[0m\u001b[0mstreamPart\u001b[0m\u001b[0;34m,\u001b[0m\u001b[0;34m\u001b[0m\u001b[0;34m\u001b[0m\u001b[0m\n\u001b[0;32m-> 2313\u001b[0;31m                           **keywords)\n\u001b[0m\u001b[1;32m   2314\u001b[0m \u001b[0;34m\u001b[0m\u001b[0m\n\u001b[1;32m   2315\u001b[0m     \u001b[0;31m# environLocal.printDebug(['show() conductorTrack elements'])\u001b[0m\u001b[0;34m\u001b[0m\u001b[0;34m\u001b[0m\u001b[0;34m\u001b[0m\u001b[0m\n",
      "\u001b[0;32m~/anaconda3/lib/python3.7/site-packages/music21/midi/translate.py\u001b[0m in \u001b[0;36mmidiTrackToStream\u001b[0;34m(mt, ticksPerQuarter, quantizePost, inputM21, **keywords)\u001b[0m\n\u001b[1;32m   1817\u001b[0m                 \u001b[0;31m# create a note here\u001b[0m\u001b[0;34m\u001b[0m\u001b[0;34m\u001b[0m\u001b[0;34m\u001b[0m\u001b[0m\n\u001b[1;32m   1818\u001b[0m                 \u001b[0mn\u001b[0m \u001b[0;34m=\u001b[0m \u001b[0mnote\u001b[0m\u001b[0;34m.\u001b[0m\u001b[0mNote\u001b[0m\u001b[0;34m(\u001b[0m\u001b[0;34m)\u001b[0m\u001b[0;34m\u001b[0m\u001b[0;34m\u001b[0m\u001b[0m\n\u001b[0;32m-> 1819\u001b[0;31m                 \u001b[0mmidiEventsToNote\u001b[0m\u001b[0;34m(\u001b[0m\u001b[0mnotes\u001b[0m\u001b[0;34m[\u001b[0m\u001b[0mi\u001b[0m\u001b[0;34m]\u001b[0m\u001b[0;34m,\u001b[0m \u001b[0mticksPerQuarter\u001b[0m\u001b[0;34m,\u001b[0m \u001b[0mn\u001b[0m\u001b[0;34m)\u001b[0m\u001b[0;34m\u001b[0m\u001b[0;34m\u001b[0m\u001b[0m\n\u001b[0m\u001b[1;32m   1820\u001b[0m                 \u001b[0;31m# the time is the first value in the first pair\u001b[0m\u001b[0;34m\u001b[0m\u001b[0;34m\u001b[0m\u001b[0;34m\u001b[0m\u001b[0m\n\u001b[1;32m   1821\u001b[0m                 \u001b[0;31m# need to round, as floating point error is likely\u001b[0m\u001b[0;34m\u001b[0m\u001b[0;34m\u001b[0m\u001b[0;34m\u001b[0m\u001b[0m\n",
      "\u001b[0;32m~/anaconda3/lib/python3.7/site-packages/music21/midi/translate.py\u001b[0m in \u001b[0;36mmidiEventsToNote\u001b[0;34m(eventList, ticksPerQuarter, inputM21)\u001b[0m\n\u001b[1;32m    356\u001b[0m     \u001b[0;31m# here we are handling an issue that might arise with double-stemmed notes\u001b[0m\u001b[0;34m\u001b[0m\u001b[0;34m\u001b[0m\u001b[0;34m\u001b[0m\u001b[0m\n\u001b[1;32m    357\u001b[0m     \u001b[0;32mif\u001b[0m \u001b[0;34m(\u001b[0m\u001b[0mtOff\u001b[0m \u001b[0;34m-\u001b[0m \u001b[0mtOn\u001b[0m\u001b[0;34m)\u001b[0m \u001b[0;34m!=\u001b[0m \u001b[0;36m0\u001b[0m\u001b[0;34m:\u001b[0m\u001b[0;34m\u001b[0m\u001b[0;34m\u001b[0m\u001b[0m\n\u001b[0;32m--> 358\u001b[0;31m         \u001b[0mticksToDuration\u001b[0m\u001b[0;34m(\u001b[0m\u001b[0mtOff\u001b[0m \u001b[0;34m-\u001b[0m \u001b[0mtOn\u001b[0m\u001b[0;34m,\u001b[0m \u001b[0mticksPerQuarter\u001b[0m\u001b[0;34m,\u001b[0m \u001b[0mn\u001b[0m\u001b[0;34m.\u001b[0m\u001b[0mduration\u001b[0m\u001b[0;34m)\u001b[0m\u001b[0;34m\u001b[0m\u001b[0;34m\u001b[0m\u001b[0m\n\u001b[0m\u001b[1;32m    359\u001b[0m     \u001b[0;32melse\u001b[0m\u001b[0;34m:\u001b[0m\u001b[0;34m\u001b[0m\u001b[0;34m\u001b[0m\u001b[0m\n\u001b[1;32m    360\u001b[0m         \u001b[0;31m# environLocal.printDebug(['cannot translate found midi event with zero duration:', eOn, n])\u001b[0m\u001b[0;34m\u001b[0m\u001b[0;34m\u001b[0m\u001b[0;34m\u001b[0m\u001b[0m\n",
      "\u001b[0;32m~/anaconda3/lib/python3.7/site-packages/music21/midi/translate.py\u001b[0m in \u001b[0;36mticksToDuration\u001b[0;34m(ticks, ticksPerQuarter, inputM21DurationObject)\u001b[0m\n\u001b[1;32m    154\u001b[0m \u001b[0;34m\u001b[0m\u001b[0m\n\u001b[1;32m    155\u001b[0m     \u001b[0;31m# given a value in ticks\u001b[0m\u001b[0;34m\u001b[0m\u001b[0;34m\u001b[0m\u001b[0;34m\u001b[0m\u001b[0m\n\u001b[0;32m--> 156\u001b[0;31m     \u001b[0md\u001b[0m\u001b[0;34m.\u001b[0m\u001b[0mquarterLength\u001b[0m \u001b[0;34m=\u001b[0m \u001b[0mfloat\u001b[0m\u001b[0;34m(\u001b[0m\u001b[0mticks\u001b[0m\u001b[0;34m)\u001b[0m \u001b[0;34m/\u001b[0m \u001b[0mticksPerQuarter\u001b[0m\u001b[0;34m\u001b[0m\u001b[0;34m\u001b[0m\u001b[0m\n\u001b[0m\u001b[1;32m    157\u001b[0m     \u001b[0;32mreturn\u001b[0m \u001b[0md\u001b[0m\u001b[0;34m\u001b[0m\u001b[0;34m\u001b[0m\u001b[0m\n\u001b[1;32m    158\u001b[0m \u001b[0;34m\u001b[0m\u001b[0m\n",
      "\u001b[0;31mOverflowError\u001b[0m: int too large to convert to float"
     ]
    }
   ],
   "source": [
    "#!pip install music21\n",
    "from music21 import midi\n",
    "\n",
    "path = \"MIDI.mid\"\n",
    "mf = midi.MidiFile()\n",
    "mf.open(path)\n",
    "mf.read()\n",
    "mf.close()\n",
    "s = midi.translate.midiFileToStream(mf)\n",
    "s.show('midi')"
   ]
  },
  {
   "cell_type": "markdown",
   "metadata": {},
   "source": [
    "------\n",
    "bass note conversion"
   ]
  },
  {
   "cell_type": "code",
   "execution_count": 10,
   "metadata": {},
   "outputs": [],
   "source": [
    "# C4\n",
    "bass_converter = {'C': 60, \n",
    "                 'D': 62,\n",
    "                 'E': 64,\n",
    "                 'F': 65,\n",
    "                 'G': 67,\n",
    "                 'A': 69,\n",
    "                 'B': 71,\n",
    "                 'Bb': 70,\n",
    "                 'F#': 66,\n",
    "                 'C#': 61,\n",
    "                 'Eb': 63,\n",
    "                 'D#': 63,\n",
    "                 'G#': 68,\n",
    "                 'A#': 70,\n",
    "                 'Ab': 68,\n",
    "                 'Db': 61 \n",
    "                 }\n",
    "# starting with C2\n",
    "lower_octave_bass_converter = {'C': 36, \n",
    "                             'D': 38,\n",
    "                             'E': 40,\n",
    "                             'F': 41,\n",
    "                             'G': 43,\n",
    "                             'A': 45,\n",
    "                             'B': 47,\n",
    "                             'Bb': 46,\n",
    "                             'F#': 42,\n",
    "                             'C#': 37,\n",
    "                             'Eb': 39,\n",
    "                             'D#': 39,\n",
    "                             'G#': 44,\n",
    "                             'A#': 46,\n",
    "                             'Ab': 44,\n",
    "                             'Db': 37  \n",
    "}"
   ]
  },
  {
   "cell_type": "code",
   "execution_count": 11,
   "metadata": {},
   "outputs": [],
   "source": [
    "# these three are generated from training on a single chorale (000106b_)\n",
    "chain = ['F_M', 'C_M', 'C_M', 'F_M', 'C_M4', 'C_M4', 'C_M4', 'C_M4', 'C_M4', 'C_M4', 'C_M', 'F_M', 'F_M', 'C_M', 'C_M', 'C_M', 'F_M', 'F_M', 'C_M', 'C_M']\n",
    "bass = ['F', 'E', 'E', 'E', 'E', 'E', 'F', 'F', 'G', 'C', 'F', 'F', 'G', 'A', 'B', 'C', 'C', 'C', 'F', 'F']\n",
    "meter = ['3', '5', '2', '3', '2', '4', '2', '3', '2', '4', '2', '3', '2', '5', '2', '1', '3', '4', '5', '1']\n"
   ]
  },
  {
   "cell_type": "code",
   "execution_count": 12,
   "metadata": {},
   "outputs": [
    {
     "data": {
      "text/plain": [
       "2.9"
      ]
     },
     "execution_count": 12,
     "metadata": {},
     "output_type": "execute_result"
    }
   ],
   "source": [
    "import numpy as np\n",
    "np.mean(np.array(meter, dtype='int'))"
   ]
  },
  {
   "cell_type": "code",
   "execution_count": 28,
   "metadata": {},
   "outputs": [
    {
     "data": {
      "text/plain": [
       "[41,\n",
       " 40,\n",
       " 40,\n",
       " 40,\n",
       " 40,\n",
       " 40,\n",
       " 41,\n",
       " 41,\n",
       " 43,\n",
       " 36,\n",
       " 41,\n",
       " 41,\n",
       " 43,\n",
       " 45,\n",
       " 47,\n",
       " 36,\n",
       " 36,\n",
       " 36,\n",
       " 41,\n",
       " 41]"
      ]
     },
     "execution_count": 28,
     "metadata": {},
     "output_type": "execute_result"
    }
   ],
   "source": [
    "bass_midi_notes = []\n",
    "for i in bass:\n",
    "    bass_midi_notes.append(lower_octave_bass_converter[i])\n",
    "bass_midi_notes"
   ]
  },
  {
   "cell_type": "code",
   "execution_count": 28,
   "metadata": {},
   "outputs": [
    {
     "data": {
      "text/plain": [
       "[[60, 65, 69],\n",
       " [60, 64, 67],\n",
       " [60, 64, 67],\n",
       " [60, 65, 69],\n",
       " [60, 65, 67],\n",
       " [60, 65, 67],\n",
       " [60, 65, 67],\n",
       " [60, 65, 67],\n",
       " [60, 65, 67],\n",
       " [60, 65, 67],\n",
       " [60, 64, 67],\n",
       " [60, 65, 69],\n",
       " [60, 65, 69],\n",
       " [60, 64, 67],\n",
       " [60, 64, 67],\n",
       " [60, 64, 67],\n",
       " [60, 65, 69],\n",
       " [60, 65, 69],\n",
       " [60, 64, 67],\n",
       " [60, 64, 67]]"
      ]
     },
     "execution_count": 28,
     "metadata": {},
     "output_type": "execute_result"
    }
   ],
   "source": [
    "chord_sequence_single = midi_numbers_list(chain)\n",
    "chord_sequence_single"
   ]
  },
  {
   "cell_type": "code",
   "execution_count": null,
   "metadata": {},
   "outputs": [],
   "source": []
  }
 ],
 "metadata": {
  "kernelspec": {
   "display_name": "Python 3",
   "language": "python",
   "name": "python3"
  },
  "language_info": {
   "codemirror_mode": {
    "name": "ipython",
    "version": 3
   },
   "file_extension": ".py",
   "mimetype": "text/x-python",
   "name": "python",
   "nbconvert_exporter": "python",
   "pygments_lexer": "ipython3",
   "version": "3.7.3"
  }
 },
 "nbformat": 4,
 "nbformat_minor": 4
}
